{
 "cells": [
  {
   "cell_type": "code",
   "execution_count": 1,
   "id": "927ee52a-1605-4b7d-86f3-01c3c813a0b0",
   "metadata": {},
   "outputs": [],
   "source": [
    "import matplotlib.pyplot as plt\n",
    "import numpy as np\n",
    "import seaborn as sns\n",
    "import pandas as pd"
   ]
  },
  {
   "cell_type": "code",
   "execution_count": 2,
   "id": "61b01f1d-4e99-4c28-94aa-f841401af227",
   "metadata": {},
   "outputs": [],
   "source": [
    "gtf_file = '/Users/datn/GENOMES/human/Homo_sapiens.GRCh37.75.gtf'\n",
    "\n",
    "def get_attr(info, key = 'gene_id', pick = 0):\n",
    "    x = info.split(';')\n",
    "    idx = np.argmax([i.find(key) for i in x])\n",
    "    x = x[idx].replace('\"', \"\")\n",
    "    res = x.split(' ')[-1].split(',')[pick]\n",
    "    return res\n",
    "    \n",
    "def parse_gtf(path):\n",
    "    data = []\n",
    "    fi = open(path, 'r')\n",
    "    for l in fi:\n",
    "        if l[0] == '#': continue\n",
    "        tokens = l.strip().split('\\t')\n",
    "        if tokens[2] == 'exon':\n",
    "            id = get_attr(tokens[8], 'transcript_id')\n",
    "            tokens[8] = id\n",
    "            data.append(tokens)\n",
    "    fi.close()\n",
    "    data = pd.DataFrame(data)\n",
    "    data['len'] = data[4].astype(int) - data[3].astype(int) + 1\n",
    "    transcript = {i: 0 for i in data[8]}\n",
    "    for t, l in zip(data[8], data['len']):\n",
    "        transcript[t] = transcript[t] + l\n",
    "    #res = [[k, l] for (k,l) in transcript.items()]\n",
    "    #res = pd.DataFrame(res)\n",
    "    return transcript"
   ]
  },
  {
   "cell_type": "code",
   "execution_count": 4,
   "id": "d954a836-a476-42e4-ae49-b73dd1537eeb",
   "metadata": {},
   "outputs": [],
   "source": [
    "tx_len = parse_gtf(gtf_file)"
   ]
  },
  {
   "cell_type": "code",
   "execution_count": 45,
   "id": "94aedbbf-d77c-4b53-b3a9-a355da6e4951",
   "metadata": {},
   "outputs": [],
   "source": [
    "gt = pd.read_csv(\"simulate_info.txt\", sep=\"\\t\")\n",
    "gt['id'] = gt['normID']\n",
    "gt['tx_len'] = [tx_len.get(tx, 0) for tx in gt['TXNAME']]\n",
    "gt['tpkb'] = gt['cCount']/gt['tx_len']*1000\n",
    "#gt = gt[['id', 'cCount']]\n",
    "gt = gt[['id', 'tpkb']]\n",
    "gt_count = gt\n",
    "gt_count.columns = ['id', 'gt']\n",
    "gt_count = gt_count[-np.isinf(gt_count['gt'])]"
   ]
  },
  {
   "cell_type": "code",
   "execution_count": null,
   "id": "0b537519-9d69-4f96-a82d-c5b92e1e9e84",
   "metadata": {},
   "outputs": [],
   "source": []
  },
  {
   "cell_type": "code",
   "execution_count": 46,
   "id": "2403b5a0-a16e-4c5a-b21f-dc335966f75b",
   "metadata": {},
   "outputs": [
    {
     "ename": "KeyError",
     "evalue": "\"['tpm'] not in index\"",
     "output_type": "error",
     "traceback": [
      "\u001b[0;31m---------------------------------------------------------------------------\u001b[0m",
      "\u001b[0;31mKeyError\u001b[0m                                  Traceback (most recent call last)",
      "Cell \u001b[0;32mIn[46], line 3\u001b[0m\n\u001b[1;32m      1\u001b[0m cc \u001b[38;5;241m=\u001b[39m pd\u001b[38;5;241m.\u001b[39mread_csv(\u001b[38;5;124m\"\u001b[39m\u001b[38;5;124msimulate.recount\u001b[39m\u001b[38;5;124m\"\u001b[39m, sep \u001b[38;5;241m=\u001b[39m \u001b[38;5;124m\"\u001b[39m\u001b[38;5;130;01m\\t\u001b[39;00m\u001b[38;5;124m\"\u001b[39m)\n\u001b[1;32m      2\u001b[0m cc[\u001b[38;5;124m'\u001b[39m\u001b[38;5;124mid\u001b[39m\u001b[38;5;124m'\u001b[39m] \u001b[38;5;241m=\u001b[39m [x[:\u001b[38;5;241m-\u001b[39m\u001b[38;5;241m17\u001b[39m] \u001b[38;5;28;01mfor\u001b[39;00m x \u001b[38;5;129;01min\u001b[39;00m cc[\u001b[38;5;124m'\u001b[39m\u001b[38;5;124mcircRNA\u001b[39m\u001b[38;5;124m'\u001b[39m]]\n\u001b[0;32m----> 3\u001b[0m cc \u001b[38;5;241m=\u001b[39m \u001b[43mcc\u001b[49m\u001b[43m[\u001b[49m\u001b[43m[\u001b[49m\u001b[38;5;124;43m'\u001b[39;49m\u001b[38;5;124;43mid\u001b[39;49m\u001b[38;5;124;43m'\u001b[39;49m\u001b[43m,\u001b[49m\u001b[43m \u001b[49m\u001b[38;5;124;43m'\u001b[39;49m\u001b[38;5;124;43mtpm\u001b[39;49m\u001b[38;5;124;43m'\u001b[39;49m\u001b[43m]\u001b[49m\u001b[43m]\u001b[49m\n\u001b[1;32m      4\u001b[0m cc\u001b[38;5;241m.\u001b[39mcolumns \u001b[38;5;241m=\u001b[39m [\u001b[38;5;124m'\u001b[39m\u001b[38;5;124mid\u001b[39m\u001b[38;5;124m'\u001b[39m, \u001b[38;5;124m'\u001b[39m\u001b[38;5;124mcc_bsj\u001b[39m\u001b[38;5;124m'\u001b[39m]\n",
      "File \u001b[0;32m~/miniconda/lib/python3.10/site-packages/pandas/core/frame.py:3767\u001b[0m, in \u001b[0;36mDataFrame.__getitem__\u001b[0;34m(self, key)\u001b[0m\n\u001b[1;32m   3765\u001b[0m     \u001b[38;5;28;01mif\u001b[39;00m is_iterator(key):\n\u001b[1;32m   3766\u001b[0m         key \u001b[38;5;241m=\u001b[39m \u001b[38;5;28mlist\u001b[39m(key)\n\u001b[0;32m-> 3767\u001b[0m     indexer \u001b[38;5;241m=\u001b[39m \u001b[38;5;28;43mself\u001b[39;49m\u001b[38;5;241;43m.\u001b[39;49m\u001b[43mcolumns\u001b[49m\u001b[38;5;241;43m.\u001b[39;49m\u001b[43m_get_indexer_strict\u001b[49m\u001b[43m(\u001b[49m\u001b[43mkey\u001b[49m\u001b[43m,\u001b[49m\u001b[43m \u001b[49m\u001b[38;5;124;43m\"\u001b[39;49m\u001b[38;5;124;43mcolumns\u001b[39;49m\u001b[38;5;124;43m\"\u001b[39;49m\u001b[43m)\u001b[49m[\u001b[38;5;241m1\u001b[39m]\n\u001b[1;32m   3769\u001b[0m \u001b[38;5;66;03m# take() does not accept boolean indexers\u001b[39;00m\n\u001b[1;32m   3770\u001b[0m \u001b[38;5;28;01mif\u001b[39;00m \u001b[38;5;28mgetattr\u001b[39m(indexer, \u001b[38;5;124m\"\u001b[39m\u001b[38;5;124mdtype\u001b[39m\u001b[38;5;124m\"\u001b[39m, \u001b[38;5;28;01mNone\u001b[39;00m) \u001b[38;5;241m==\u001b[39m \u001b[38;5;28mbool\u001b[39m:\n",
      "File \u001b[0;32m~/miniconda/lib/python3.10/site-packages/pandas/core/indexes/base.py:5876\u001b[0m, in \u001b[0;36mIndex._get_indexer_strict\u001b[0;34m(self, key, axis_name)\u001b[0m\n\u001b[1;32m   5873\u001b[0m \u001b[38;5;28;01melse\u001b[39;00m:\n\u001b[1;32m   5874\u001b[0m     keyarr, indexer, new_indexer \u001b[38;5;241m=\u001b[39m \u001b[38;5;28mself\u001b[39m\u001b[38;5;241m.\u001b[39m_reindex_non_unique(keyarr)\n\u001b[0;32m-> 5876\u001b[0m \u001b[38;5;28;43mself\u001b[39;49m\u001b[38;5;241;43m.\u001b[39;49m\u001b[43m_raise_if_missing\u001b[49m\u001b[43m(\u001b[49m\u001b[43mkeyarr\u001b[49m\u001b[43m,\u001b[49m\u001b[43m \u001b[49m\u001b[43mindexer\u001b[49m\u001b[43m,\u001b[49m\u001b[43m \u001b[49m\u001b[43maxis_name\u001b[49m\u001b[43m)\u001b[49m\n\u001b[1;32m   5878\u001b[0m keyarr \u001b[38;5;241m=\u001b[39m \u001b[38;5;28mself\u001b[39m\u001b[38;5;241m.\u001b[39mtake(indexer)\n\u001b[1;32m   5879\u001b[0m \u001b[38;5;28;01mif\u001b[39;00m \u001b[38;5;28misinstance\u001b[39m(key, Index):\n\u001b[1;32m   5880\u001b[0m     \u001b[38;5;66;03m# GH 42790 - Preserve name from an Index\u001b[39;00m\n",
      "File \u001b[0;32m~/miniconda/lib/python3.10/site-packages/pandas/core/indexes/base.py:5938\u001b[0m, in \u001b[0;36mIndex._raise_if_missing\u001b[0;34m(self, key, indexer, axis_name)\u001b[0m\n\u001b[1;32m   5935\u001b[0m     \u001b[38;5;28;01mraise\u001b[39;00m \u001b[38;5;167;01mKeyError\u001b[39;00m(\u001b[38;5;124mf\u001b[39m\u001b[38;5;124m\"\u001b[39m\u001b[38;5;124mNone of [\u001b[39m\u001b[38;5;132;01m{\u001b[39;00mkey\u001b[38;5;132;01m}\u001b[39;00m\u001b[38;5;124m] are in the [\u001b[39m\u001b[38;5;132;01m{\u001b[39;00maxis_name\u001b[38;5;132;01m}\u001b[39;00m\u001b[38;5;124m]\u001b[39m\u001b[38;5;124m\"\u001b[39m)\n\u001b[1;32m   5937\u001b[0m not_found \u001b[38;5;241m=\u001b[39m \u001b[38;5;28mlist\u001b[39m(ensure_index(key)[missing_mask\u001b[38;5;241m.\u001b[39mnonzero()[\u001b[38;5;241m0\u001b[39m]]\u001b[38;5;241m.\u001b[39munique())\n\u001b[0;32m-> 5938\u001b[0m \u001b[38;5;28;01mraise\u001b[39;00m \u001b[38;5;167;01mKeyError\u001b[39;00m(\u001b[38;5;124mf\u001b[39m\u001b[38;5;124m\"\u001b[39m\u001b[38;5;132;01m{\u001b[39;00mnot_found\u001b[38;5;132;01m}\u001b[39;00m\u001b[38;5;124m not in index\u001b[39m\u001b[38;5;124m\"\u001b[39m)\n",
      "\u001b[0;31mKeyError\u001b[0m: \"['tpm'] not in index\""
     ]
    }
   ],
   "source": [
    "cc = pd.read_csv(\"simulate.recount\", sep = \"\\t\")\n",
    "cc['id'] = [x[:-17] for x in cc['circRNA']]\n",
    "cc = cc[['id', 'TPM']]\n",
    "cc.columns = ['id', 'cc_bsj']"
   ]
  },
  {
   "cell_type": "code",
   "execution_count": 26,
   "id": "2b927b35-6df1-48ff-a9b1-4cd9a330c5c6",
   "metadata": {},
   "outputs": [],
   "source": [
    "cq = pd.read_csv('simulate.bed', sep='\\t', header = None)\n",
    "cq['id'] = [i.replace(':', '__').replace('|', '__') for i in cq[3]]\n",
    "#cq = cq[[5, 'id']]\n",
    "cq = cq[[4, 'id']]\n",
    "cq.columns = ['cq_bsj', 'id']"
   ]
  },
  {
   "cell_type": "code",
   "execution_count": 35,
   "id": "f217258b-cf40-4130-9493-06d39f55c2e9",
   "metadata": {},
   "outputs": [],
   "source": [
    "cq = pd.read_csv('simulate.bed', sep='\\t', header = None)"
   ]
  },
  {
   "cell_type": "code",
   "execution_count": 27,
   "id": "1de19a18-8407-499f-916a-dbb816548908",
   "metadata": {},
   "outputs": [],
   "source": [
    "m = pd.merge(gt_count, cc, on = 'id', how='left')"
   ]
  },
  {
   "cell_type": "code",
   "execution_count": 28,
   "id": "2d332119-2ed3-4526-8e64-8ede8c06548b",
   "metadata": {},
   "outputs": [],
   "source": [
    "m = pd.merge(m, cq, on = 'id', how='left')"
   ]
  },
  {
   "cell_type": "code",
   "execution_count": 31,
   "id": "f9fb8b23-0a11-43b1-a58a-c18b5e6f7f0f",
   "metadata": {},
   "outputs": [],
   "source": [
    "m = m.fillna(0)"
   ]
  },
  {
   "cell_type": "code",
   "execution_count": 32,
   "id": "2ec4ae66-1cf9-4007-b1af-36617ae73c38",
   "metadata": {},
   "outputs": [],
   "source": [
    "m['gt_log2'] = np.log2(m['gt'] + 1)\n",
    "m['cc_bsj_log2'] = np.log2(m['cc_bsj'] + 1)\n",
    "m['cq_bsj_log2'] = np.log2(m['cq_bsj'] + 1)"
   ]
  },
  {
   "cell_type": "code",
   "execution_count": 33,
   "id": "1d8bba31-20e9-4029-b55b-6712562b3474",
   "metadata": {},
   "outputs": [
    {
     "data": {
      "text/plain": [
       "array([[1.      , 0.429916],\n",
       "       [0.429916, 1.      ]])"
      ]
     },
     "execution_count": 33,
     "metadata": {},
     "output_type": "execute_result"
    }
   ],
   "source": [
    "np.corrcoef(m['gt_log2'], m['cc_bsj_log2'])"
   ]
  },
  {
   "cell_type": "code",
   "execution_count": 34,
   "id": "52db192e-9fee-45b4-ba67-caebd0e7b1fc",
   "metadata": {},
   "outputs": [
    {
     "data": {
      "text/html": [
       "<div>\n",
       "<style scoped>\n",
       "    .dataframe tbody tr th:only-of-type {\n",
       "        vertical-align: middle;\n",
       "    }\n",
       "\n",
       "    .dataframe tbody tr th {\n",
       "        vertical-align: top;\n",
       "    }\n",
       "\n",
       "    .dataframe thead th {\n",
       "        text-align: right;\n",
       "    }\n",
       "</style>\n",
       "<table border=\"1\" class=\"dataframe\">\n",
       "  <thead>\n",
       "    <tr style=\"text-align: right;\">\n",
       "      <th></th>\n",
       "      <th>id</th>\n",
       "      <th>gt</th>\n",
       "      <th>cc_bsj</th>\n",
       "      <th>cq_bsj</th>\n",
       "      <th>gt_log2</th>\n",
       "      <th>cc_bsj_log2</th>\n",
       "      <th>cq_bsj_log2</th>\n",
       "    </tr>\n",
       "  </thead>\n",
       "  <tbody>\n",
       "    <tr>\n",
       "      <th>0</th>\n",
       "      <td>4__143543509__143543972</td>\n",
       "      <td>0.378644</td>\n",
       "      <td>0.0</td>\n",
       "      <td>1.0</td>\n",
       "      <td>0.463250</td>\n",
       "      <td>0.000000</td>\n",
       "      <td>1.000000</td>\n",
       "    </tr>\n",
       "    <tr>\n",
       "      <th>1</th>\n",
       "      <td>15__64499293__64500166</td>\n",
       "      <td>1.029395</td>\n",
       "      <td>3.0</td>\n",
       "      <td>3.0</td>\n",
       "      <td>1.021050</td>\n",
       "      <td>2.000000</td>\n",
       "      <td>2.000000</td>\n",
       "    </tr>\n",
       "    <tr>\n",
       "      <th>2</th>\n",
       "      <td>8__51860845__51861246</td>\n",
       "      <td>18.344309</td>\n",
       "      <td>31.0</td>\n",
       "      <td>34.0</td>\n",
       "      <td>4.273837</td>\n",
       "      <td>5.000000</td>\n",
       "      <td>5.129283</td>\n",
       "    </tr>\n",
       "    <tr>\n",
       "      <th>3</th>\n",
       "      <td>7__158759486__158764853</td>\n",
       "      <td>0.335570</td>\n",
       "      <td>0.0</td>\n",
       "      <td>0.0</td>\n",
       "      <td>0.417456</td>\n",
       "      <td>0.000000</td>\n",
       "      <td>0.000000</td>\n",
       "    </tr>\n",
       "    <tr>\n",
       "      <th>4</th>\n",
       "      <td>12__46229153__46243314</td>\n",
       "      <td>1.735681</td>\n",
       "      <td>2.0</td>\n",
       "      <td>4.0</td>\n",
       "      <td>1.451900</td>\n",
       "      <td>1.584963</td>\n",
       "      <td>2.321928</td>\n",
       "    </tr>\n",
       "    <tr>\n",
       "      <th>...</th>\n",
       "      <td>...</td>\n",
       "      <td>...</td>\n",
       "      <td>...</td>\n",
       "      <td>...</td>\n",
       "      <td>...</td>\n",
       "      <td>...</td>\n",
       "      <td>...</td>\n",
       "    </tr>\n",
       "    <tr>\n",
       "      <th>14899</th>\n",
       "      <td>13__49168613__49188633</td>\n",
       "      <td>3.946070</td>\n",
       "      <td>5.0</td>\n",
       "      <td>6.0</td>\n",
       "      <td>2.306283</td>\n",
       "      <td>2.584963</td>\n",
       "      <td>2.807355</td>\n",
       "    </tr>\n",
       "    <tr>\n",
       "      <th>14900</th>\n",
       "      <td>1__230928937__230933861</td>\n",
       "      <td>9.640103</td>\n",
       "      <td>8.0</td>\n",
       "      <td>10.0</td>\n",
       "      <td>3.411440</td>\n",
       "      <td>3.169925</td>\n",
       "      <td>3.459432</td>\n",
       "    </tr>\n",
       "    <tr>\n",
       "      <th>14901</th>\n",
       "      <td>2__179978190__179981997</td>\n",
       "      <td>11.287625</td>\n",
       "      <td>9.0</td>\n",
       "      <td>11.0</td>\n",
       "      <td>3.619134</td>\n",
       "      <td>3.321928</td>\n",
       "      <td>3.584963</td>\n",
       "    </tr>\n",
       "    <tr>\n",
       "      <th>14902</th>\n",
       "      <td>10__84371014__84438707</td>\n",
       "      <td>2.595156</td>\n",
       "      <td>0.0</td>\n",
       "      <td>0.0</td>\n",
       "      <td>1.846054</td>\n",
       "      <td>0.000000</td>\n",
       "      <td>0.000000</td>\n",
       "    </tr>\n",
       "    <tr>\n",
       "      <th>14903</th>\n",
       "      <td>18__2762105__2769820</td>\n",
       "      <td>22000.000000</td>\n",
       "      <td>7.0</td>\n",
       "      <td>5.0</td>\n",
       "      <td>14.425281</td>\n",
       "      <td>3.000000</td>\n",
       "      <td>2.584963</td>\n",
       "    </tr>\n",
       "  </tbody>\n",
       "</table>\n",
       "<p>14904 rows × 7 columns</p>\n",
       "</div>"
      ],
      "text/plain": [
       "                            id            gt  cc_bsj  cq_bsj    gt_log2   \n",
       "0      4__143543509__143543972      0.378644     0.0     1.0   0.463250  \\\n",
       "1       15__64499293__64500166      1.029395     3.0     3.0   1.021050   \n",
       "2        8__51860845__51861246     18.344309    31.0    34.0   4.273837   \n",
       "3      7__158759486__158764853      0.335570     0.0     0.0   0.417456   \n",
       "4       12__46229153__46243314      1.735681     2.0     4.0   1.451900   \n",
       "...                        ...           ...     ...     ...        ...   \n",
       "14899   13__49168613__49188633      3.946070     5.0     6.0   2.306283   \n",
       "14900  1__230928937__230933861      9.640103     8.0    10.0   3.411440   \n",
       "14901  2__179978190__179981997     11.287625     9.0    11.0   3.619134   \n",
       "14902   10__84371014__84438707      2.595156     0.0     0.0   1.846054   \n",
       "14903     18__2762105__2769820  22000.000000     7.0     5.0  14.425281   \n",
       "\n",
       "       cc_bsj_log2  cq_bsj_log2  \n",
       "0         0.000000     1.000000  \n",
       "1         2.000000     2.000000  \n",
       "2         5.000000     5.129283  \n",
       "3         0.000000     0.000000  \n",
       "4         1.584963     2.321928  \n",
       "...            ...          ...  \n",
       "14899     2.584963     2.807355  \n",
       "14900     3.169925     3.459432  \n",
       "14901     3.321928     3.584963  \n",
       "14902     0.000000     0.000000  \n",
       "14903     3.000000     2.584963  \n",
       "\n",
       "[14904 rows x 7 columns]"
      ]
     },
     "execution_count": 34,
     "metadata": {},
     "output_type": "execute_result"
    }
   ],
   "source": [
    "m"
   ]
  },
  {
   "cell_type": "code",
   "execution_count": null,
   "id": "f1176dca-75da-4fc8-97a1-45b16f96a505",
   "metadata": {},
   "outputs": [],
   "source": []
  }
 ],
 "metadata": {
  "kernelspec": {
   "display_name": "Python 3 (ipykernel)",
   "language": "python",
   "name": "python3"
  },
  "language_info": {
   "codemirror_mode": {
    "name": "ipython",
    "version": 3
   },
   "file_extension": ".py",
   "mimetype": "text/x-python",
   "name": "python",
   "nbconvert_exporter": "python",
   "pygments_lexer": "ipython3",
   "version": "3.10.11"
  }
 },
 "nbformat": 4,
 "nbformat_minor": 5
}
